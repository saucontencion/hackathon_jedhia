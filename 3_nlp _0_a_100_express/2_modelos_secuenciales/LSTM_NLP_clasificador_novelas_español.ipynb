{
  "nbformat": 4,
  "nbformat_minor": 0,
  "metadata": {
    "colab": {
      "name": "LSTM-NLP-clasificador-novelas-español.ipynb",
      "provenance": [],
      "collapsed_sections": []
    },
    "kernelspec": {
      "name": "python3",
      "display_name": "Python 3"
    },
    "language_info": {
      "name": "python"
    }
  },
  "cells": [
    {
        "cell_type": "markdown",
        "metadata": {
         "id": "view-in-github",
         "colab_type": "text"
           },
          "source": [
             "<a href=\"https://colab.research.google.com/github/nlp-en-es/nlp-de-cero-a-cien/blob/main/2_modelos_secuenciales/LSTM_NLP_clasificador_novelas_español.ipynb\" target=\"_parent\"><img src=\"https://colab.research.google.com/assets/colab-badge.svg\" alt=\"Open In Colab\"/></a>"
           ]
         },
    {
      "cell_type": "markdown",
      "metadata": {
        "id": "pVzQ1KMCLs5_"
      },
      "source": [
        "# Clasificación de texto usando LSTMs con TensorFlow 2.0"
      ]
    },
    {
      "cell_type": "markdown",
      "metadata": {
        "id": "mypT6qjZa1b8"
      },
      "source": [
        "Vamos a crear una Red Neuronal Recurrente (BiLSTM) capaz de clasificar si una secuencia de una novela pertenece a Benito Pérez Galdós o Emilia Pardo Bazán.\n",
        " - Idea y preparación del dataset de [Javier de La Rosa](https://twitter.com/versae)"
      ]
    },
    {
      "cell_type": "markdown",
      "metadata": {
        "id": "Pe55OPlQMJj6"
      },
      "source": [
        "## Importamos las bibliotecas requeridas"
      ]
    },
    {
      "cell_type": "code",
      "metadata": {
        "colab": {
          "base_uri": "https://localhost:8080/"
        },
        "id": "i_cQyHTKXT7n",
        "outputId": "c3c730b5-1228-4010-c62d-cb3d271c14cf"
      },
      "source": [
        "import csv\n",
        "import tensorflow as tf\n",
        "import numpy as np\n",
        "import pandas as pd\n",
        "import matplotlib.pyplot as plt\n",
        "from tensorflow.keras.preprocessing.text import Tokenizer\n",
        "from tensorflow.keras.preprocessing.sequence import pad_sequences\n",
        "from tqdm import tqdm\n",
        "import requests\n",
        "print(tf.__version__)"
      ],
      "execution_count": null,
      "outputs": [
        {
          "output_type": "stream",
          "text": [
            "2.5.0\n"
          ],
          "name": "stdout"
        }
      ]
    },
    {
      "cell_type": "markdown",
      "metadata": {
        "id": "ksxRTxvFL3RV"
      },
      "source": [
        "## Descarga del dataset"
      ]
    },
    {
      "cell_type": "markdown",
      "metadata": {
        "id": "Q7tbGXHJbYVh"
      },
      "source": [
        "Descargaremos 3 novelas por autor"
      ]
    },
    {
      "cell_type": "code",
      "metadata": {
        "colab": {
          "base_uri": "https://localhost:8080/"
        },
        "id": "ygmo15fbdP1o",
        "outputId": "5d5a6641-9142-4d86-e758-aa2be534c404"
      },
      "source": [
        "URLS = [\n",
        "    (\"galdos\", \"http://www.gutenberg.org/cache/epub/52392/pg52392.txt\"),  # Miau\n",
        "    (\"galdos\", \"http://www.gutenberg.org/cache/epub/15725/pg15725.txt\"),  # Doña Perfecta\n",
        "    (\"galdos\", \"http://www.gutenberg.org/cache/epub/17013/pg17013.txt\"),  # Fortunata y Jacinta\n",
        "    (\"bazan\", \"https://www.gutenberg.org/files/65632/65632-0.txt\"),  # La prueba\n",
        "    (\"bazan\", \"https://www.gutenberg.org/files/58059/58059-0.txt\"),  # La Madre Naturaleza\n",
        "    (\"bazan\", \"https://www.gutenberg.org/cache/epub/17491/pg17491.txt\"),  # La Tribuna\n",
        "]\n",
        "\n",
        "galdos = \"\"\n",
        "bazan = \"\"\n",
        "for author, url in tqdm(URLS):\n",
        "    work_text = requests.get(url).text\n",
        "    start_mark = \"START OF \"\n",
        "    end_mark = \"END OF \"\n",
        "    work_text = work_text[work_text.index(start_mark):work_text.index(end_mark)]\n",
        "    if author == \"galdos\":\n",
        "        galdos += \"\\n\" + work_text\n",
        "    else:\n",
        "        bazan += \"\\n\" + work_text"
      ],
      "execution_count": null,
      "outputs": [
        {
          "output_type": "stream",
          "text": [
            "100%|██████████| 6/6 [00:01<00:00,  3.04it/s]\n"
          ],
          "name": "stderr"
        }
      ]
    },
    {
      "cell_type": "markdown",
      "metadata": {
        "id": "MYHZWOD1W6ck"
      },
      "source": [
        "Vamos a dividir las novelas en secuencias de una longitud de 250 palabras. Podemos probar con una longitud superior e inferior. Al fin y al cabo es un parámetro a tener en cuenta cuando se define una RNN"
      ]
    },
    {
      "cell_type": "code",
      "metadata": {
        "id": "mXX73jpWoHB2"
      },
      "source": [
        "n = 250\n",
        "\n",
        "galdos_splits = galdos.split()\n",
        "galdos_chunks = [galdos_splits[i:i + n] for i in range(0, len(galdos_splits), n)]\n",
        "\n",
        "bazan_splits = bazan.split()\n",
        "bazan_chunks = [bazan_splits[i:i + n] for i in range(0, len(bazan_splits), n)]"
      ],
      "execution_count": null,
      "outputs": []
    },
    {
      "cell_type": "markdown",
      "metadata": {
        "id": "5Fg1R_RAXCAm"
      },
      "source": [
        "Ahora construiremos una tabla (`DataFrame`) con los textos de cada extracto y una segunda columna indicando si pertenecen la obra de Galdós con un 1 o de Pardo Bazán con un 0."
      ]
    },
    {
      "cell_type": "code",
      "metadata": {
        "colab": {
          "base_uri": "https://localhost:8080/"
        },
        "id": "N19hpkoZoLWV",
        "outputId": "dd90a389-fd6d-4257-b3ee-6fed3b7e5292"
      },
      "source": [
        "galdos_len = len(galdos_chunks)\n",
        "bazan_len = len(bazan_chunks)\n",
        "galdos_len, bazan_len "
      ],
      "execution_count": null,
      "outputs": [
        {
          "output_type": "execute_result",
          "data": {
            "text/plain": [
              "(2426, 868)"
            ]
          },
          "metadata": {
            "tags": []
          },
          "execution_count": 10
        }
      ]
    },
    {
      "cell_type": "code",
      "metadata": {
        "id": "ia-Ju3mtXJZ2"
      },
      "source": [
        "galdos_df = pd.DataFrame(\n",
        "    [\" \".join(chunk) for chunk in galdos_chunks],\n",
        "    columns=[\"text\"]\n",
        ").assign(labels=1).sample(frac=1).reset_index(drop=True)\n",
        "bazan_df = pd.DataFrame(\n",
        "    [\" \".join(chunk) for chunk in bazan_chunks],\n",
        "    columns=[\"text\"]\n",
        ").assign(labels=0).sample(frac=1).reset_index(drop=True)"
      ],
      "execution_count": null,
      "outputs": []
    },
    {
      "cell_type": "code",
      "metadata": {
        "colab": {
          "base_uri": "https://localhost:8080/",
          "height": 419
        },
        "id": "xCzA4ACFcTcp",
        "outputId": "2431c9bd-430d-42c2-f9a0-a51624c7dff5"
      },
      "source": [
        "galdos_df"
      ],
      "execution_count": null,
      "outputs": [
        {
          "output_type": "execute_result",
          "data": {
            "text/html": [
              "<div>\n",
              "<style scoped>\n",
              "    .dataframe tbody tr th:only-of-type {\n",
              "        vertical-align: middle;\n",
              "    }\n",
              "\n",
              "    .dataframe tbody tr th {\n",
              "        vertical-align: top;\n",
              "    }\n",
              "\n",
              "    .dataframe thead th {\n",
              "        text-align: right;\n",
              "    }\n",
              "</style>\n",
              "<table border=\"1\" class=\"dataframe\">\n",
              "  <thead>\n",
              "    <tr style=\"text-align: right;\">\n",
              "      <th></th>\n",
              "      <th>text</th>\n",
              "      <th>labels</th>\n",
              "    </tr>\n",
              "  </thead>\n",
              "  <tbody>\n",
              "    <tr>\n",
              "      <th>0</th>\n",
              "      <td>de chacota á todo el que entraba. Cuando vi aq...</td>\n",
              "      <td>1</td>\n",
              "    </tr>\n",
              "    <tr>\n",
              "      <th>1</th>\n",
              "      <td>última. El viento entonces se largaba refunfuñ...</td>\n",
              "      <td>1</td>\n",
              "    </tr>\n",
              "    <tr>\n",
              "      <th>2</th>\n",
              "      <td>su extranjerismo. Fortunata no chistó. Aquella...</td>\n",
              "      <td>1</td>\n",
              "    </tr>\n",
              "    <tr>\n",
              "      <th>3</th>\n",
              "      <td>y sus ojos encendidos y aquella grandísima hum...</td>\n",
              "      <td>1</td>\n",
              "    </tr>\n",
              "    <tr>\n",
              "      <th>4</th>\n",
              "      <td>empezó a abanicarse. --Es preciso que lo sepas...</td>\n",
              "      <td>1</td>\n",
              "    </tr>\n",
              "    <tr>\n",
              "      <th>...</th>\n",
              "      <td>...</td>\n",
              "      <td>...</td>\n",
              "    </tr>\n",
              "    <tr>\n",
              "      <th>2421</th>\n",
              "      <td>servido con tanta lealtad! Señor, que no me en...</td>\n",
              "      <td>1</td>\n",
              "    </tr>\n",
              "    <tr>\n",
              "      <th>2422</th>\n",
              "      <td>testero de las breves estancias la indispensab...</td>\n",
              "      <td>1</td>\n",
              "    </tr>\n",
              "    <tr>\n",
              "      <th>2423</th>\n",
              "      <td>soy--repuso la sobrina del canónigo, poniéndos...</td>\n",
              "      <td>1</td>\n",
              "    </tr>\n",
              "    <tr>\n",
              "      <th>2424</th>\n",
              "      <td>trabajo concluyó aquel día más pronto que de o...</td>\n",
              "      <td>1</td>\n",
              "    </tr>\n",
              "    <tr>\n",
              "      <th>2425</th>\n",
              "      <td>alta, mas no arrogante; su cabeza calva, crasa...</td>\n",
              "      <td>1</td>\n",
              "    </tr>\n",
              "  </tbody>\n",
              "</table>\n",
              "<p>2426 rows × 2 columns</p>\n",
              "</div>"
            ],
            "text/plain": [
              "                                                   text  labels\n",
              "0     de chacota á todo el que entraba. Cuando vi aq...       1\n",
              "1     última. El viento entonces se largaba refunfuñ...       1\n",
              "2     su extranjerismo. Fortunata no chistó. Aquella...       1\n",
              "3     y sus ojos encendidos y aquella grandísima hum...       1\n",
              "4     empezó a abanicarse. --Es preciso que lo sepas...       1\n",
              "...                                                 ...     ...\n",
              "2421  servido con tanta lealtad! Señor, que no me en...       1\n",
              "2422  testero de las breves estancias la indispensab...       1\n",
              "2423  soy--repuso la sobrina del canónigo, poniéndos...       1\n",
              "2424  trabajo concluyó aquel día más pronto que de o...       1\n",
              "2425  alta, mas no arrogante; su cabeza calva, crasa...       1\n",
              "\n",
              "[2426 rows x 2 columns]"
            ]
          },
          "metadata": {
            "tags": []
          },
          "execution_count": 14
        }
      ]
    },
    {
      "cell_type": "code",
      "metadata": {
        "colab": {
          "base_uri": "https://localhost:8080/",
          "height": 419
        },
        "id": "ZnF9lJV8cYFG",
        "outputId": "de3f0582-971a-43f8-bd94-22c2ac6b08c8"
      },
      "source": [
        "bazan_df"
      ],
      "execution_count": null,
      "outputs": [
        {
          "output_type": "execute_result",
          "data": {
            "text/html": [
              "<div>\n",
              "<style scoped>\n",
              "    .dataframe tbody tr th:only-of-type {\n",
              "        vertical-align: middle;\n",
              "    }\n",
              "\n",
              "    .dataframe tbody tr th {\n",
              "        vertical-align: top;\n",
              "    }\n",
              "\n",
              "    .dataframe thead th {\n",
              "        text-align: right;\n",
              "    }\n",
              "</style>\n",
              "<table border=\"1\" class=\"dataframe\">\n",
              "  <thead>\n",
              "    <tr style=\"text-align: right;\">\n",
              "      <th></th>\n",
              "      <th>text</th>\n",
              "      <th>labels</th>\n",
              "    </tr>\n",
              "  </thead>\n",
              "  <tbody>\n",
              "    <tr>\n",
              "      <th>0</th>\n",
              "      <td>del comandante, deteniÃ©ndose un poco mÃ¡s de ...</td>\n",
              "      <td>0</td>\n",
              "    </tr>\n",
              "    <tr>\n",
              "      <th>1</th>\n",
              "      <td>--¿Y tú, qué haces, señorita de Rosendez?--int...</td>\n",
              "      <td>0</td>\n",
              "    </tr>\n",
              "    <tr>\n",
              "      <th>2</th>\n",
              "      <td>dolorida. En sus labios, la República federal ...</td>\n",
              "      <td>0</td>\n",
              "    </tr>\n",
              "    <tr>\n",
              "      <th>3</th>\n",
              "      <td>en el cristal de los vasos donde aÃºn el vino ...</td>\n",
              "      <td>0</td>\n",
              "    </tr>\n",
              "    <tr>\n",
              "      <th>4</th>\n",
              "      <td>la procesiÃ³n de hormigones que acarreaban un ...</td>\n",
              "      <td>0</td>\n",
              "    </tr>\n",
              "    <tr>\n",
              "      <th>...</th>\n",
              "      <td>...</td>\n",
              "      <td>...</td>\n",
              "    </tr>\n",
              "    <tr>\n",
              "      <th>863</th>\n",
              "      <td>soy quien debe... --Su seÃ±or tÃ­o --interrump...</td>\n",
              "      <td>0</td>\n",
              "    </tr>\n",
              "    <tr>\n",
              "      <th>864</th>\n",
              "      <td>se propone reparar la omisiÃ³n. A alguna idea ...</td>\n",
              "      <td>0</td>\n",
              "    </tr>\n",
              "    <tr>\n",
              "      <th>865</th>\n",
              "      <td>na... si es por gusto; por gusto... Lo que men...</td>\n",
              "      <td>0</td>\n",
              "    </tr>\n",
              "    <tr>\n",
              "      <th>866</th>\n",
              "      <td>de preguntar: Â¿por quÃ© se me pide que dÃ© es...</td>\n",
              "      <td>0</td>\n",
              "    </tr>\n",
              "    <tr>\n",
              "      <th>867</th>\n",
              "      <td>a paseo... y me dijo que tenÃ­a una jumera. Â¿...</td>\n",
              "      <td>0</td>\n",
              "    </tr>\n",
              "  </tbody>\n",
              "</table>\n",
              "<p>868 rows × 2 columns</p>\n",
              "</div>"
            ],
            "text/plain": [
              "                                                  text  labels\n",
              "0    del comandante, deteniÃ©ndose un poco mÃ¡s de ...       0\n",
              "1    --¿Y tú, qué haces, señorita de Rosendez?--int...       0\n",
              "2    dolorida. En sus labios, la República federal ...       0\n",
              "3    en el cristal de los vasos donde aÃºn el vino ...       0\n",
              "4    la procesiÃ³n de hormigones que acarreaban un ...       0\n",
              "..                                                 ...     ...\n",
              "863  soy quien debe... --Su seÃ±or tÃ­o --interrump...       0\n",
              "864  se propone reparar la omisiÃ³n. A alguna idea ...       0\n",
              "865  na... si es por gusto; por gusto... Lo que men...       0\n",
              "866  de preguntar: Â¿por quÃ© se me pide que dÃ© es...       0\n",
              "867  a paseo... y me dijo que tenÃ­a una jumera. Â¿...       0\n",
              "\n",
              "[868 rows x 2 columns]"
            ]
          },
          "metadata": {
            "tags": []
          },
          "execution_count": 15
        }
      ]
    },
    {
      "cell_type": "markdown",
      "metadata": {
        "id": "rLeq3F2Nio45"
      },
      "source": [
        "## División de los datasets"
      ]
    },
    {
      "cell_type": "code",
      "metadata": {
        "colab": {
          "base_uri": "https://localhost:8080/",
          "height": 419
        },
        "id": "GMUyR7AWoPWo",
        "outputId": "7877aafb-fb1d-472d-bd01-afcae1145c08"
      },
      "source": [
        "train_df = pd.concat(\n",
        "    [galdos_df[:int(galdos_len*.2)], bazan_df[:int(bazan_len*.2)]],\n",
        "    ignore_index=True\n",
        ").sample(frac=1).reset_index(drop=True)\n",
        "train_df"
      ],
      "execution_count": null,
      "outputs": [
        {
          "output_type": "execute_result",
          "data": {
            "text/html": [
              "<div>\n",
              "<style scoped>\n",
              "    .dataframe tbody tr th:only-of-type {\n",
              "        vertical-align: middle;\n",
              "    }\n",
              "\n",
              "    .dataframe tbody tr th {\n",
              "        vertical-align: top;\n",
              "    }\n",
              "\n",
              "    .dataframe thead th {\n",
              "        text-align: right;\n",
              "    }\n",
              "</style>\n",
              "<table border=\"1\" class=\"dataframe\">\n",
              "  <thead>\n",
              "    <tr style=\"text-align: right;\">\n",
              "      <th></th>\n",
              "      <th>text</th>\n",
              "      <th>labels</th>\n",
              "    </tr>\n",
              "  </thead>\n",
              "  <tbody>\n",
              "    <tr>\n",
              "      <th>0</th>\n",
              "      <td>entretenerlo ni darle conversaciÃ³n. Bonita di...</td>\n",
              "      <td>0</td>\n",
              "    </tr>\n",
              "    <tr>\n",
              "      <th>1</th>\n",
              "      <td>un tráfico hasta cierto punto clandestino, que...</td>\n",
              "      <td>1</td>\n",
              "    </tr>\n",
              "    <tr>\n",
              "      <th>2</th>\n",
              "      <td>Alguna locura se ha de hacer en la vida, chach...</td>\n",
              "      <td>0</td>\n",
              "    </tr>\n",
              "    <tr>\n",
              "      <th>3</th>\n",
              "      <td>saludo. --Â¿QuÃ© tal, Manolita?--exclamÃ³ Juli...</td>\n",
              "      <td>0</td>\n",
              "    </tr>\n",
              "    <tr>\n",
              "      <th>4</th>\n",
              "      <td>pucherito donde estaba ya la cascarilla, le añ...</td>\n",
              "      <td>0</td>\n",
              "    </tr>\n",
              "    <tr>\n",
              "      <th>...</th>\n",
              "      <td>...</td>\n",
              "      <td>...</td>\n",
              "    </tr>\n",
              "    <tr>\n",
              "      <th>653</th>\n",
              "      <td>faldas--replicó Pantoja tan á media voz, que V...</td>\n",
              "      <td>1</td>\n",
              "    </tr>\n",
              "    <tr>\n",
              "      <th>654</th>\n",
              "      <td>te estás burlando de nosotros. Haz lo que te d...</td>\n",
              "      <td>1</td>\n",
              "    </tr>\n",
              "    <tr>\n",
              "      <th>655</th>\n",
              "      <td>--Yo... nada. En fin, esperaremos. Sentose el ...</td>\n",
              "      <td>1</td>\n",
              "    </tr>\n",
              "    <tr>\n",
              "      <th>656</th>\n",
              "      <td>trompeta, distribuídos los papeles y tan adela...</td>\n",
              "      <td>1</td>\n",
              "    </tr>\n",
              "    <tr>\n",
              "      <th>657</th>\n",
              "      <td>dos hermosos cuadros; había un gran cromo con ...</td>\n",
              "      <td>1</td>\n",
              "    </tr>\n",
              "  </tbody>\n",
              "</table>\n",
              "<p>658 rows × 2 columns</p>\n",
              "</div>"
            ],
            "text/plain": [
              "                                                  text  labels\n",
              "0    entretenerlo ni darle conversaciÃ³n. Bonita di...       0\n",
              "1    un tráfico hasta cierto punto clandestino, que...       1\n",
              "2    Alguna locura se ha de hacer en la vida, chach...       0\n",
              "3    saludo. --Â¿QuÃ© tal, Manolita?--exclamÃ³ Juli...       0\n",
              "4    pucherito donde estaba ya la cascarilla, le añ...       0\n",
              "..                                                 ...     ...\n",
              "653  faldas--replicó Pantoja tan á media voz, que V...       1\n",
              "654  te estás burlando de nosotros. Haz lo que te d...       1\n",
              "655  --Yo... nada. En fin, esperaremos. Sentose el ...       1\n",
              "656  trompeta, distribuídos los papeles y tan adela...       1\n",
              "657  dos hermosos cuadros; había un gran cromo con ...       1\n",
              "\n",
              "[658 rows x 2 columns]"
            ]
          },
          "metadata": {
            "tags": []
          },
          "execution_count": 16
        }
      ]
    },
    {
      "cell_type": "code",
      "metadata": {
        "colab": {
          "base_uri": "https://localhost:8080/",
          "height": 419
        },
        "id": "RWvNR1kuXIve",
        "outputId": "8de9960c-e504-43ca-97ee-a49862165ae8"
      },
      "source": [
        "eval_df = pd.concat(\n",
        "    [galdos_df[int(galdos_len*.8):], bazan_df[int(bazan_len*.8):]],\n",
        "    ignore_index=True\n",
        ").sample(frac=1).reset_index(drop=True)\n",
        "eval_df"
      ],
      "execution_count": null,
      "outputs": [
        {
          "output_type": "execute_result",
          "data": {
            "text/html": [
              "<div>\n",
              "<style scoped>\n",
              "    .dataframe tbody tr th:only-of-type {\n",
              "        vertical-align: middle;\n",
              "    }\n",
              "\n",
              "    .dataframe tbody tr th {\n",
              "        vertical-align: top;\n",
              "    }\n",
              "\n",
              "    .dataframe thead th {\n",
              "        text-align: right;\n",
              "    }\n",
              "</style>\n",
              "<table border=\"1\" class=\"dataframe\">\n",
              "  <thead>\n",
              "    <tr style=\"text-align: right;\">\n",
              "      <th></th>\n",
              "      <th>text</th>\n",
              "      <th>labels</th>\n",
              "    </tr>\n",
              "  </thead>\n",
              "  <tbody>\n",
              "    <tr>\n",
              "      <th>0</th>\n",
              "      <td>partes por fuerza superior o por su propio has...</td>\n",
              "      <td>1</td>\n",
              "    </tr>\n",
              "    <tr>\n",
              "      <th>1</th>\n",
              "      <td>tenía para aquella noche una magnífica lombard...</td>\n",
              "      <td>1</td>\n",
              "    </tr>\n",
              "    <tr>\n",
              "      <th>2</th>\n",
              "      <td>conocía personalmente a ninguna víctima de las...</td>\n",
              "      <td>1</td>\n",
              "    </tr>\n",
              "    <tr>\n",
              "      <th>3</th>\n",
              "      <td>_m_ Mercury. =merecedor= meriting, that deserv...</td>\n",
              "      <td>1</td>\n",
              "    </tr>\n",
              "    <tr>\n",
              "      <th>4</th>\n",
              "      <td>dedos, al mismo tiempo que balbucÃ­a: --Me qui...</td>\n",
              "      <td>0</td>\n",
              "    </tr>\n",
              "    <tr>\n",
              "      <th>...</th>\n",
              "      <td>...</td>\n",
              "      <td>...</td>\n",
              "    </tr>\n",
              "    <tr>\n",
              "      <th>655</th>\n",
              "      <td>cruel sospecha. --¡Tú... dices que le comprend...</td>\n",
              "      <td>1</td>\n",
              "    </tr>\n",
              "    <tr>\n",
              "      <th>656</th>\n",
              "      <td>y se me pone delante, ¡ay!, por algo me llaman...</td>\n",
              "      <td>1</td>\n",
              "    </tr>\n",
              "    <tr>\n",
              "      <th>657</th>\n",
              "      <td>baile y los juegos de prendas. Ornamento de es...</td>\n",
              "      <td>1</td>\n",
              "    </tr>\n",
              "    <tr>\n",
              "      <th>658</th>\n",
              "      <td>rugidos de fiera sujeta y acorralada. No pudie...</td>\n",
              "      <td>1</td>\n",
              "    </tr>\n",
              "    <tr>\n",
              "      <th>659</th>\n",
              "      <td>asá... que si la señora Pepa sabe o no sabe el...</td>\n",
              "      <td>0</td>\n",
              "    </tr>\n",
              "  </tbody>\n",
              "</table>\n",
              "<p>660 rows × 2 columns</p>\n",
              "</div>"
            ],
            "text/plain": [
              "                                                  text  labels\n",
              "0    partes por fuerza superior o por su propio has...       1\n",
              "1    tenía para aquella noche una magnífica lombard...       1\n",
              "2    conocía personalmente a ninguna víctima de las...       1\n",
              "3    _m_ Mercury. =merecedor= meriting, that deserv...       1\n",
              "4    dedos, al mismo tiempo que balbucÃ­a: --Me qui...       0\n",
              "..                                                 ...     ...\n",
              "655  cruel sospecha. --¡Tú... dices que le comprend...       1\n",
              "656  y se me pone delante, ¡ay!, por algo me llaman...       1\n",
              "657  baile y los juegos de prendas. Ornamento de es...       1\n",
              "658  rugidos de fiera sujeta y acorralada. No pudie...       1\n",
              "659  asá... que si la señora Pepa sabe o no sabe el...       0\n",
              "\n",
              "[660 rows x 2 columns]"
            ]
          },
          "metadata": {
            "tags": []
          },
          "execution_count": 17
        }
      ]
    },
    {
      "cell_type": "code",
      "metadata": {
        "colab": {
          "base_uri": "https://localhost:8080/"
        },
        "id": "G8v6IJ5achjB",
        "outputId": "e3a1aefc-c011-4595-d123-217aa3c9f69e"
      },
      "source": [
        "train_df['labels'].value_counts()"
      ],
      "execution_count": null,
      "outputs": [
        {
          "output_type": "execute_result",
          "data": {
            "text/plain": [
              "1    485\n",
              "0    173\n",
              "Name: labels, dtype: int64"
            ]
          },
          "metadata": {
            "tags": []
          },
          "execution_count": 18
        }
      ]
    },
    {
      "cell_type": "code",
      "metadata": {
        "colab": {
          "base_uri": "https://localhost:8080/"
        },
        "id": "Ghwa3Ujscp3c",
        "outputId": "18e741c4-0932-4612-e8d5-ac366661faa3"
      },
      "source": [
        "eval_df['labels'].value_counts()"
      ],
      "execution_count": null,
      "outputs": [
        {
          "output_type": "execute_result",
          "data": {
            "text/plain": [
              "1    486\n",
              "0    174\n",
              "Name: labels, dtype: int64"
            ]
          },
          "metadata": {
            "tags": []
          },
          "execution_count": 19
        }
      ]
    },
    {
      "cell_type": "markdown",
      "metadata": {
        "id": "dXEhG1O_NDKg"
      },
      "source": [
        "## Definimos algunos parámetros de la red"
      ]
    },
    {
      "cell_type": "markdown",
      "metadata": {
        "id": "5nXDZMV0c-Ls"
      },
      "source": [
        " - vocab_size = cómo de largo queremos que sea nuestro vocabulario. Si es demasiado corto, el rendimiento de la red sería muy pobre pues habría muchos tokens desconocidos. Si es demasiado grande, nuestra red tardará más en entrenar.\n",
        "\n",
        " - embedding_dim: Este parámetro nos dice cómo de grandes queremos que sean los vectores que representan cada palabra de nuestro vocabulario. Normalmente, cuanto más grandes sean, mayor 'calidad' en la representación de las mismas.\n",
        "\n",
        " - max_length: Debemos definir una longitud máxima de secuencia puesto que nuestra red espera que todas tenga la misma longitud. En nuestro caso, como partimos el dataset en secuencias de 250 palabras, usaremos ese valor.\n",
        "\n",
        " - trunc_type: si una secuencia es más larga de 250 palabras la cortamos por detrás (post).\n",
        "\n",
        "- padding_type = nos dice que en caso de que la secuencia se más corta de 250 tokens en qué parte de ésta se añade los tokens de padding (post = al final).\n",
        "\n",
        "- oov_tok = `<OOV>` da un valor a las palabras/tokens que estén fuera de esas 5000 como máximo que hemos definido para nuestro vocabulario.\n"
      ]
    },
    {
      "cell_type": "code",
      "metadata": {
        "id": "yeN5zad3djSj"
      },
      "source": [
        "vocab_size = 5000\n",
        "embedding_dim = 64\n",
        "max_length = 250\n",
        "trunc_type = 'post'\n",
        "padding_type = 'post'\n",
        "oov_tok = '<OOV>'"
      ],
      "execution_count": null,
      "outputs": []
    },
    {
      "cell_type": "code",
      "metadata": {
        "colab": {
          "base_uri": "https://localhost:8080/"
        },
        "id": "SSipg3irNLoc",
        "outputId": "5fdf2ef5-daa7-49bf-d4d1-67cd643244a9"
      },
      "source": [
        "train_articles = train_df['text'].tolist()\n",
        "train_labels = train_df['labels'].tolist()\n",
        "\n",
        "validation_articles = eval_df['text'].tolist()\n",
        "validation_labels = eval_df['labels'].tolist()\n",
        "\n",
        "print(len(train_articles))\n",
        "print(len(train_labels))\n",
        "print(len(validation_articles))\n",
        "print(len(validation_labels))"
      ],
      "execution_count": null,
      "outputs": [
        {
          "output_type": "stream",
          "text": [
            "658\n",
            "658\n",
            "660\n",
            "660\n"
          ],
          "name": "stdout"
        }
      ]
    },
    {
      "cell_type": "markdown",
      "metadata": {
        "id": "L3FVSkGNNbeD"
      },
      "source": [
        "## Creamos el Tokenizer"
      ]
    },
    {
      "cell_type": "markdown",
      "metadata": {
        "id": "zodihNvZfHnA"
      },
      "source": [
        "Le vamos a decir cuál es el número máximo de palabras, el token para palabras que no estén en el vocabulario y que las pase minúsculas para reducir el tamaño del mismo"
      ]
    },
    {
      "cell_type": "code",
      "metadata": {
        "colab": {
          "base_uri": "https://localhost:8080/"
        },
        "id": "KFotUWa4NeB-",
        "outputId": "6ade535e-ccd6-40d1-f7bc-af87476f01bf"
      },
      "source": [
        "tokenizer = Tokenizer(num_words = vocab_size, oov_token=oov_tok, lower=True)\n",
        "tokenizer.fit_on_texts(train_articles)\n",
        "word_index = tokenizer.word_index\n",
        "dict(list(word_index.items())[0:10])"
      ],
      "execution_count": null,
      "outputs": [
        {
          "output_type": "execute_result",
          "data": {
            "text/plain": [
              "{'<OOV>': 1,\n",
              " 'a': 8,\n",
              " 'de': 2,\n",
              " 'el': 6,\n",
              " 'en': 7,\n",
              " 'la': 4,\n",
              " 'no': 9,\n",
              " 'que': 3,\n",
              " 'se': 10,\n",
              " 'y': 5}"
            ]
          },
          "metadata": {
            "tags": []
          },
          "execution_count": 22
        }
      ]
    },
    {
      "cell_type": "markdown",
      "metadata": {
        "id": "q2IrSCgpfY7h"
      },
      "source": [
        "No hemos filtrado las `STOPWORDS` pero se podría."
      ]
    },
    {
      "cell_type": "markdown",
      "metadata": {
        "id": "J-euGB85fiyI"
      },
      "source": [
        "Tokenizamos nuestro dataset de entrenamiento una vez que ya tenemos nuestro vocabulario listo."
      ]
    },
    {
      "cell_type": "code",
      "metadata": {
        "colab": {
          "base_uri": "https://localhost:8080/"
        },
        "id": "BwEuNYqHNkNQ",
        "outputId": "1cf69363-d7f9-49c6-f1e1-58ed12c64bc8"
      },
      "source": [
        "train_sequences = tokenizer.texts_to_sequences(train_articles)\n",
        "print(train_sequences[10])"
      ],
      "execution_count": null,
      "outputs": [
        {
          "output_type": "stream",
          "text": [
            "[3409, 5, 1, 16, 3, 23, 204, 7, 1601, 2, 1, 1, 40, 410, 383, 9, 1, 13, 2329, 6, 4439, 1, 6, 1, 872, 2, 1, 7, 4, 2042, 2, 15, 1, 25, 191, 1, 8, 13, 2787, 1, 5, 3, 36, 49, 563, 166, 3410, 1, 2, 2330, 3, 23, 22, 136, 16, 3, 22, 240, 4, 4440, 7, 66, 3411, 4, 4441, 2, 4442, 10, 1, 7, 306, 17, 125, 4443, 7, 6, 1795, 2, 1, 114, 4, 1226, 2, 46, 6, 1796, 5, 6, 1, 2, 4, 981, 9, 242, 1452, 3, 19, 1, 16, 2788, 22, 1, 25, 4, 483, 982, 5, 37, 35, 823, 19, 1, 7, 4, 162, 1, 3, 1, 1797, 17, 919, 20, 1, 19, 1, 2, 224, 2043, 1, 5, 2, 35, 918, 1, 1, 15, 1, 4444, 11, 726, 1139, 3, 98, 16, 1, 2, 3, 2789, 486, 5, 28, 291, 1, 17, 13, 824, 2, 4445, 5, 2044, 185, 6, 873, 2, 4, 1, 1, 4446, 22, 1, 2, 1, 37, 456, 8, 35, 154, 431, 9, 62, 120, 102, 1, 3, 9, 2790, 2, 15, 3412, 8, 171, 19, 2751, 457, 2, 4447, 46, 8, 2791, 5, 2762, 8, 794, 1798, 11, 16, 3, 727, 19, 920, 25, 1, 4, 109, 491, 23, 21, 3413, 543, 24, 4448, 11, 75, 2792, 5, 75, 1, 5, 9, 635, 2045, 7, 1, 22, 3414, 1, 29, 15, 874, 2, 1, 3, 482, 7, 1, 1227, 363, 19, 200, 4449, 8]\n"
          ],
          "name": "stdout"
        }
      ]
    },
    {
      "cell_type": "markdown",
      "metadata": {
        "id": "Q2J2jAD_ftOe"
      },
      "source": [
        "Aplicamos padding a nuestras secuencias de entrenamientoi para que todas tengan la misma longitud (para este dataset no es neceario porque las dividimos con la misma longitud, pero en otros casos suele ser útil)."
      ]
    },
    {
      "cell_type": "code",
      "metadata": {
        "colab": {
          "base_uri": "https://localhost:8080/"
        },
        "id": "u4UbbghkNlfg",
        "outputId": "197cb835-adc5-4dc7-b48a-9759172911e5"
      },
      "source": [
        "train_padded = pad_sequences(train_sequences, maxlen=max_length, padding=padding_type, truncating=trunc_type)\n",
        "print(len(train_sequences[0]))\n",
        "print(len(train_padded[0]))\n",
        "\n",
        "print(len(train_sequences[1]))\n",
        "print(len(train_padded[1]))\n",
        "\n",
        "print(len(train_sequences[10]))\n",
        "print(len(train_padded[10]))"
      ],
      "execution_count": null,
      "outputs": [
        {
          "output_type": "stream",
          "text": [
            "252\n",
            "250\n",
            "251\n",
            "250\n",
            "251\n",
            "250\n"
          ],
          "name": "stdout"
        }
      ]
    },
    {
      "cell_type": "code",
      "metadata": {
        "colab": {
          "base_uri": "https://localhost:8080/"
        },
        "id": "UCRWM1asJX9A",
        "outputId": "dc4eb49d-a7c2-40f1-8ede-fd6d5010291a"
      },
      "source": [
        "print(train_padded[10])"
      ],
      "execution_count": null,
      "outputs": [
        {
          "output_type": "stream",
          "text": [
            "[3409    5    1   16    3   23  204    7 1601    2    1    1   40  410\n",
            "  383    9    1   13 2329    6 4439    1    6    1  872    2    1    7\n",
            "    4 2042    2   15    1   25  191    1    8   13 2787    1    5    3\n",
            "   36   49  563  166 3410    1    2 2330    3   23   22  136   16    3\n",
            "   22  240    4 4440    7   66 3411    4 4441    2 4442   10    1    7\n",
            "  306   17  125 4443    7    6 1795    2    1  114    4 1226    2   46\n",
            "    6 1796    5    6    1    2    4  981    9  242 1452    3   19    1\n",
            "   16 2788   22    1   25    4  483  982    5   37   35  823   19    1\n",
            "    7    4  162    1    3    1 1797   17  919   20    1   19    1    2\n",
            "  224 2043    1    5    2   35  918    1    1   15    1 4444   11  726\n",
            " 1139    3   98   16    1    2    3 2789  486    5   28  291    1   17\n",
            "   13  824    2 4445    5 2044  185    6  873    2    4    1    1 4446\n",
            "   22    1    2    1   37  456    8   35  154  431    9   62  120  102\n",
            "    1    3    9 2790    2   15 3412    8  171   19 2751  457    2 4447\n",
            "   46    8 2791    5 2762    8  794 1798   11   16    3  727   19  920\n",
            "   25    1    4  109  491   23   21 3413  543   24 4448   11   75 2792\n",
            "    5   75    1    5    9  635 2045    7    1   22 3414    1   29   15\n",
            "  874    2    1    3  482    7    1 1227  363   19  200 4449]\n"
          ],
          "name": "stdout"
        }
      ]
    },
    {
      "cell_type": "markdown",
      "metadata": {
        "id": "Vu6WBDn3gBVn"
      },
      "source": [
        "Hacemos lo propio con el dataset de validación"
      ]
    },
    {
      "cell_type": "code",
      "metadata": {
        "colab": {
          "base_uri": "https://localhost:8080/"
        },
        "id": "fFXq3RsKzo5F",
        "outputId": "e63488e5-339c-4e20-ec4e-3a36d0f6409d"
      },
      "source": [
        "validation_sequences = tokenizer.texts_to_sequences(validation_articles)\n",
        "validation_padded = pad_sequences(validation_sequences, maxlen=max_length, padding=padding_type, truncating=trunc_type)\n",
        "\n",
        "print(len(validation_sequences))\n",
        "print(validation_padded.shape)"
      ],
      "execution_count": null,
      "outputs": [
        {
          "output_type": "stream",
          "text": [
            "660\n",
            "(660, 250)\n"
          ],
          "name": "stdout"
        }
      ]
    },
    {
      "cell_type": "markdown",
      "metadata": {
        "id": "-TqvV2BVgGeh"
      },
      "source": [
        "Codificamos correctamente las `labels`"
      ]
    },
    {
      "cell_type": "code",
      "metadata": {
        "colab": {
          "base_uri": "https://localhost:8080/"
        },
        "id": "mH9DeFBf9pgb",
        "outputId": "ecb98d9d-1602-4ab6-ef06-6c41befbeb1c"
      },
      "source": [
        "training_label_seq = np.array(train_labels, dtype=np.int8)\n",
        "validation_label_seq = np.array(validation_labels, dtype=np.int8)\n",
        "print(training_label_seq[0])\n",
        "print(training_label_seq[1])\n",
        "print(training_label_seq[2])\n",
        "print(training_label_seq.shape)\n",
        "\n",
        "print(validation_label_seq[0])\n",
        "print(validation_label_seq[1])\n",
        "print(validation_label_seq[2])\n",
        "print(validation_label_seq.shape)"
      ],
      "execution_count": null,
      "outputs": [
        {
          "output_type": "stream",
          "text": [
            "0\n",
            "1\n",
            "0\n",
            "(658,)\n",
            "1\n",
            "1\n",
            "1\n",
            "(660,)\n"
          ],
          "name": "stdout"
        }
      ]
    },
    {
      "cell_type": "markdown",
      "metadata": {
        "id": "xBYiRaVqgNgU"
      },
      "source": [
        "Veamos cómo somos capaces de decodificar una secuencia tokenizada a texto de nuevo gracias al tokenizer que creamos"
      ]
    },
    {
      "cell_type": "code",
      "metadata": {
        "colab": {
          "base_uri": "https://localhost:8080/"
        },
        "id": "TH1gdnnBdv68",
        "outputId": "4a21724c-50c3-4cf5-f446-cffb980fc4d6"
      },
      "source": [
        "reverse_word_index = dict([(value, key) for (key, value) in word_index.items()])\n",
        "\n",
        "def decode_article(text):\n",
        "    return ' '.join([reverse_word_index.get(i, '?') for i in text])\n",
        "print(decode_article(train_padded[10]))\n",
        "print('---')\n",
        "print(train_articles[10])"
      ],
      "execution_count": null,
      "outputs": [
        {
          "output_type": "stream",
          "text": [
            "pronunciar la primer palabra el señor alargó hacia él la diestra y entonces se fijó en ella cadalsito y vió que tenía los dedos <OOV> de aquellas mismas sortijas que formaban la rica colección de posturas sólo que en los dedos <OOV> que habían <OOV> el mundo en siete días los anillos <OOV> cual si fueran de oro y piedras <OOV> cadalsito estaba absorto y el padre le dijo «mira luis lo que os quitó el maestro ve aquí los bonitos anillos los <OOV> del suelo y los <OOV> al instante sin ningún trabajo el maestro es un bruto y ya le <OOV> yo á no <OOV> <OOV> tan fuertes y por lo que hace á posturitas te diré que es un pillo aunque sin mala intención está mal educado los niños decentes no ponen motes <OOV> razón en <OOV> y te <OOV> bien veo que eres un valiente y que sabes volver por tu <OOV> luis quedó muy satisfecho de <OOV> llamar valiente por persona de tanta autoridad el respeto que sentía no le permitió dar las gracias pero algo iba á decir cuando el señor moviendo con <OOV> de castigo la mano aquella cuajada de sortijas le dijo <OOV> «pero hijo mío si por ese lado estoy contento de ti por otro me veo en el caso de <OOV> hoy no te has sabido la lección ni por casualidad <OOV> una sola vez bien claro se vió que no habías abierto un libro en todo el santo día\n",
            "---\n",
            "pronunciar la primer palabra, el Señor alargó hacia él la diestra, y entonces se fijó en ella Cadalsito y vió que tenía los dedos cuajados de aquellas mismas sortijas que formaban la rica colección de _Posturas_. Sólo que en los dedos soberanos, que habían fabricado el mundo en siete días, los anillos relumbraban cual si fueran de oro y piedras preciosas. Cadalsito estaba absorto, y el Padre le dijo: «Mira, Luis, lo que os quitó el maestro. Ve aquí los bonitos anillos. Los recogí del suelo, y los compuse al instante sin ningún trabajo. El maestro es un bruto, y ya le enseñaré yo á no daros coscorrones tan fuertes. Y por lo que hace á _Posturitas_, te diré que es un pillo, aunque sin mala intención. Está mal educado. Los niños decentes no ponen motes. Tuviste razón en enfadarte, y te portaste bien. Veo que eres un valiente y que sabes volver por tu honor». Luis quedó muy satisfecho de oirse llamar valiente por persona de tanta autoridad. El respeto que sentía no le permitió dar las gracias; pero algo iba á decir, cuando el Señor, moviendo con insinuación de castigo la mano aquella cuajada de sortijas, le dijo severamente: «Pero, hijo mío, si por ese lado estoy contento de ti, por otro me veo en el caso de reprenderte. Hoy no te has sabido la lección. Ni por casualidad acertaste una sola vez. Bien claro se vió que no habías abierto un libro en todo el santo día...\n"
          ],
          "name": "stdout"
        }
      ]
    },
    {
      "cell_type": "markdown",
      "metadata": {
        "id": "jpJJ9568OOof"
      },
      "source": [
        "## Construimos nuestra red neuronal"
      ]
    },
    {
      "cell_type": "markdown",
      "metadata": {
        "id": "8JIZ8L8igcS4"
      },
      "source": [
        "- Utilizaremos la `Sequential` API de Keras\n",
        "- Creamos una primera capa de `Embedding`que tiene por tamaño `vocab_size`x `embedding_dim`\n",
        "- Despues añadimos nuestra capa de recurrencia. En este caso será una `LSTM` bidireccional (aprende de izquerida a derecha y de derecha a izquierda)\n",
        "- Conectamos la salida de esa capa a una capa `Dense`.\n",
        "- Por último, conectamos todo a una capa `Dense`con función de activación `sigmoid`ya que nuestro problema de clasificación es binario."
      ]
    },
    {
      "cell_type": "code",
      "metadata": {
        "id": "-u21q7CPdyxj",
        "colab": {
          "base_uri": "https://localhost:8080/"
        },
        "outputId": "4e5530ff-8bd0-4e42-d12c-fae654747cec"
      },
      "source": [
        "model = tf.keras.Sequential([\n",
        "    tf.keras.layers.Embedding(vocab_size, embedding_dim),\n",
        "    tf.keras.layers.Bidirectional(tf.keras.layers.LSTM(embedding_dim)),\n",
        "    tf.keras.layers.Dense(embedding_dim, activation='relu'),\n",
        "    tf.keras.layers.Dense(1, activation='sigmoid')\n",
        "])\n",
        "model.summary()"
      ],
      "execution_count": null,
      "outputs": [
        {
          "output_type": "stream",
          "text": [
            "Model: \"sequential\"\n",
            "_________________________________________________________________\n",
            "Layer (type)                 Output Shape              Param #   \n",
            "=================================================================\n",
            "embedding (Embedding)        (None, None, 64)          320000    \n",
            "_________________________________________________________________\n",
            "bidirectional (Bidirectional (None, 128)               66048     \n",
            "_________________________________________________________________\n",
            "dense (Dense)                (None, 64)                8256      \n",
            "_________________________________________________________________\n",
            "dense_1 (Dense)              (None, 1)                 65        \n",
            "=================================================================\n",
            "Total params: 394,369\n",
            "Trainable params: 394,369\n",
            "Non-trainable params: 0\n",
            "_________________________________________________________________\n"
          ],
          "name": "stdout"
        }
      ]
    },
    {
      "cell_type": "code",
      "metadata": {
        "id": "tRC4gdpTOdJ2"
      },
      "source": [
        "model.compile(loss='binary_crossentropy', optimizer='adam', metrics=['accuracy'])"
      ],
      "execution_count": null,
      "outputs": []
    },
    {
      "cell_type": "markdown",
      "metadata": {
        "id": "wku8-NcvOiEl"
      },
      "source": [
        "## Entrenamos nuestro modelo"
      ]
    },
    {
      "cell_type": "code",
      "metadata": {
        "colab": {
          "base_uri": "https://localhost:8080/"
        },
        "id": "CCq0VEY3Of51",
        "outputId": "74e2d629-6a2e-4c81-cfc6-787d0a7ad155"
      },
      "source": [
        "num_epochs = 4\n",
        "history = model.fit(train_padded, training_label_seq, epochs=num_epochs, validation_data=(validation_padded, validation_label_seq), verbose=2)"
      ],
      "execution_count": null,
      "outputs": [
        {
          "output_type": "stream",
          "text": [
            "Epoch 1/4\n",
            "21/21 - 12s - loss: 0.6374 - accuracy: 0.7219 - val_loss: 0.5837 - val_accuracy: 0.7364\n",
            "Epoch 2/4\n",
            "21/21 - 6s - loss: 0.5499 - accuracy: 0.7371 - val_loss: 0.5464 - val_accuracy: 0.7364\n",
            "Epoch 3/4\n",
            "21/21 - 6s - loss: 0.3870 - accuracy: 0.7948 - val_loss: 0.2966 - val_accuracy: 0.9152\n",
            "Epoch 4/4\n",
            "21/21 - 6s - loss: 0.1096 - accuracy: 0.9772 - val_loss: 0.3092 - val_accuracy: 0.9348\n"
          ],
          "name": "stdout"
        }
      ]
    },
    {
      "cell_type": "markdown",
      "metadata": {
        "id": "juWKrCZROpaN"
      },
      "source": [
        "## Visualizamos los resultados"
      ]
    },
    {
      "cell_type": "code",
      "metadata": {
        "colab": {
          "base_uri": "https://localhost:8080/",
          "height": 541
        },
        "id": "tQ2VSuHpd18X",
        "outputId": "d545736d-cc97-41d6-d1e8-838e79b8af0d"
      },
      "source": [
        "def plot_graphs(history, string):\n",
        "  plt.plot(history.history[string])\n",
        "  plt.plot(history.history['val_'+string])\n",
        "  plt.xlabel(\"Epochs\")\n",
        "  plt.ylabel(string)\n",
        "  plt.legend([string, 'val_'+string])\n",
        "  plt.show()\n",
        "  \n",
        "plot_graphs(history, \"accuracy\")\n",
        "plot_graphs(history, \"loss\")"
      ],
      "execution_count": null,
      "outputs": [
        {
          "output_type": "display_data",
          "data": {
            "image/png": "[encoded data removed]",
            "text/plain": [
              "<Figure size 432x288 with 1 Axes>"
            ]
          },
          "metadata": {
            "tags": [],
            "needs_background": "light"
          }
        },
        {
          "output_type": "display_data",
          "data": {
            "image/png": "[encoded data removed]",
            "text/plain": [
              "<Figure size 432x288 with 1 Axes>"
            ]
          },
          "metadata": {
            "tags": [],
            "needs_background": "light"
          }
        }
      ]
    },
    {
      "cell_type": "markdown",
      "metadata": {
        "id": "mbWlCoZrO3FG"
      },
      "source": [
        "## Probemos nuestro modelo"
      ]
    },
    {
      "cell_type": "code",
      "metadata": {
        "colab": {
          "base_uri": "https://localhost:8080/"
        },
        "id": "E8m7ukwrZjRs",
        "outputId": "98f670b1-c92d-4912-9d98-3a0e717be9d7"
      },
      "source": [
        "validation_articles[50], validation_label_seq[50]"
      ],
      "execution_count": null,
      "outputs": [
        {
          "output_type": "execute_result",
          "data": {
            "text/plain": [
              "('al mal tiempo, a que él no podía estar en Madrid sino dos semanas, y por fin a la jaqueca que tenía Maximiliano aquel día. «Es mal de familia. Yo también las padezco. Pero lo que principalmente me trae descompuesto ahora es un pícaro mal de estómago... debilidad, dicen que es debilidad... Tengo que comer muy a menudo y muy poca cantidad... esta es la cosa... Es efecto del excesivo trabajo... ¡qué le vamos a hacer! Al llegar esta hora se me pone aquí un perrito... lo mismo que un perrito que me estuviera mordiendo. Y como no le eche algo al condenado, me da muy mal rato». --Si quiere usted... aguarde usted... yo...--dijo Fortunata pasando revista mental a su pobre despensa. --Quite usted allá, criatura... No faltaba más... ¿Piensa que no me puedo pasar...? No es que yo apetezca nada; lo tomo hasta con asco; pero me sienta bien, conozco que me sienta bien. --Si quiere usted, traeré... No tengo en casa; pero bajaré a la tienda... --Quite usted allá... no me lo diga ni en broma... Vaya, abur, abur... Y cuidarse, cuidarse mucho, ¿eh?, que andan pulmonías. El clérigo salió y fue a casa de un amigo donde le solían dar, en aquella crítica hora, el remedio de su debilidad de estómago. --vi-- En la noche de aquel memorable día, y cuando la jaqueca se le calmó, pudo enterarse Maxi de que su hermano había ido a la calle de Pelayo, y de que sus impresiones «no habían',\n",
              " 1)"
            ]
          },
          "metadata": {
            "tags": []
          },
          "execution_count": 32
        }
      ]
    },
    {
      "cell_type": "code",
      "metadata": {
        "id": "W2Iip3Acd49N",
        "colab": {
          "base_uri": "https://localhost:8080/"
        },
        "outputId": "4728a9e5-6e37-40e3-fbe0-b4d162fbb936"
      },
      "source": [
        "txt = ['''\n",
        "para que el triunfo fuese completo era menester que a Maxi le entrase una enfermedad asquerosa, repugnante y pestífera, de esas que ahuyentan hasta a los más allegados. Ella, entonces, daría pruebas de ser tan ángel como otra cualquiera, y tendría alma, paciencia, valor y estómago para todo. «Y entonces vería _esa_ si aquí hay perfecciones o no hay perfecciones, y que cada una es cada una... Lo malo sería que no lo viese, porque acá no ha de venir...». Maximiliano la distrajo de esta meditación, dando quejidos profundos. Ya conocía aquello su mujer y sabía el remedio, que era volverlo suavemente del otro lado... «¡Qué sueño!--murmuró Maxi medio despierto--. Soñaba que te habías marchado... y yo te había cogido de un pie, y tú tirabas, y yo tiraba más, y tirando se me rompía la bolsa del aneurisma, y todo el cuarto se llenaba de sangre, todo el cuarto, hasta el techo...». Le arrulló para que se durmiera, y ella se durmió también. Levantose temprano porque tenía que trabajar. Después de las nueve, cuando entró en la alcoba a ver si a su marido se le ofrecía alguna cosa, este se estaba vistiendo, y en una disposición de ánimo muy distinta de la que tuviera la noche anterior. No sólo parecía recobrado de su debilidad, sino que estaba inquieto, ágil y como si acabara de tomar un excitante muy enérgico. En cuanto entró su mujer, se fue derecho a ella, abotonándose el cuello de la camisa, y en tono\n",
        "''']\n",
        "seq = tokenizer.texts_to_sequences(txt)\n",
        "padded = pad_sequences(seq, maxlen=max_length)\n",
        "pred = model.predict(padded)\n",
        "print(pred)\n",
        "print(\"Parece una secuencia de una novela de Galdós\" if pred[0] > 0.5 else \"Parece que esta novela pertenece a Emilia Pardo Bazán\")"
      ],
      "execution_count": null,
      "outputs": [
        {
          "output_type": "stream",
          "text": [
            "[[0.9613426]]\n",
            "Parece una secuencia de una novela de Galdós\n"
          ],
          "name": "stdout"
        }
      ]
    },
    {
      "cell_type": "code",
      "metadata": {
        "id": "XeXJ1o80O9Yw"
      },
      "source": [
        ""
      ],
      "execution_count": null,
      "outputs": []
    }
  ]
}
