{
  "nbformat": 4,
  "nbformat_minor": 0,
  "metadata": {
    "colab": {
      "provenance": []
    },
    "kernelspec": {
      "name": "python3",
      "display_name": "Python 3"
    },
    "language_info": {
      "name": "python"
    }
  },
  "cells": [
    {
      "cell_type": "code",
      "execution_count": null,
      "metadata": {
        "id": "6-cxBbcnThe6"
      },
      "outputs": [],
      "source": [
        "import pandas as pd\n",
        "\n",
        "# Cargar el archivo Excel\n",
        "df = pd.read_excel('ruta/a/tu/archivo.xlsx')\n",
        "print(df.head())  # Ver las primeras filas para entender los datos\n"
      ]
    },
    {
      "cell_type": "code",
      "source": [
        "comentarios = df['comentarios'].dropna()  # Eliminar valores NaN\n"
      ],
      "metadata": {
        "id": "AYh1kp3PTkXw"
      },
      "execution_count": null,
      "outputs": []
    },
    {
      "cell_type": "code",
      "source": [
        "pip install jina-embeddings\n"
      ],
      "metadata": {
        "id": "kyxLdvGzTwoD"
      },
      "execution_count": null,
      "outputs": []
    },
    {
      "cell_type": "code",
      "source": [
        "from jina import Executor\n",
        "from jina_embeddings import JinaEmbeddings\n",
        "\n",
        "# Cargar el modelo\n",
        "embedder = JinaEmbeddings(model='jina-embeddings-v3')\n",
        "\n",
        "# Procesar las respuestas de la encuesta\n",
        "respuestas = [\"texto de respuesta 1\", \"texto de respuesta 2\", \"...\"]\n",
        "embeddings = [embedder.embed([respuesta])[0] for respuesta in respuestas]\n"
      ],
      "metadata": {
        "id": "skiceyEYT0Bz"
      },
      "execution_count": null,
      "outputs": []
    },
    {
      "cell_type": "code",
      "source": [
        "from sklearn.cluster import KMeans\n",
        "\n",
        "# Aplicar K-means clustering para encontrar 5 grupos\n",
        "kmeans = KMeans(n_clusters=5, random_state=42)\n",
        "clusters = kmeans.fit_predict(embeddings)\n",
        "\n",
        "# Añadir los resultados del clustering al DataFrame original\n",
        "df['cluster'] = clusters\n",
        "print(df.head())\n"
      ],
      "metadata": {
        "id": "a1w73cCtT2Ju"
      },
      "execution_count": null,
      "outputs": []
    }
  ]
}