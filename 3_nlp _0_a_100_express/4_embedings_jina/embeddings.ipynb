{
 "cells": [
  {
   "cell_type": "code",
   "execution_count": null,
   "metadata": {
    "vscode": {
     "languageId": "plaintext"
    }
   },
   "outputs": [],
   "source": [
    "import pandas as pd\n",
    "\n",
    "# Cargar el archivo Excel\n",
    "df = pd.read_excel('ruta/a/tu/archivo.xlsx')\n",
    "print(df.head())  # Ver las primeras filas para entender los datos\n"
   ]
  },
  {
   "cell_type": "code",
   "execution_count": null,
   "metadata": {
    "vscode": {
     "languageId": "plaintext"
    }
   },
   "outputs": [],
   "source": [
    "comentarios = df['comentarios'].dropna()  # Eliminar valores NaN\n"
   ]
  },
  {
   "cell_type": "code",
   "execution_count": null,
   "metadata": {
    "vscode": {
     "languageId": "plaintext"
    }
   },
   "outputs": [],
   "source": [
    "pip install jina-embeddings\n"
   ]
  },
  {
   "cell_type": "code",
   "execution_count": null,
   "metadata": {
    "vscode": {
     "languageId": "plaintext"
    }
   },
   "outputs": [],
   "source": [
    "from jina import Executor\n",
    "from jina_embeddings import JinaEmbeddings\n",
    "\n",
    "# Cargar el modelo\n",
    "embedder = JinaEmbeddings(model='jina-embeddings-v3')\n",
    "\n",
    "# Procesar las respuestas de la encuesta\n",
    "respuestas = [\"texto de respuesta 1\", \"texto de respuesta 2\", \"...\"]\n",
    "embeddings = [embedder.embed([respuesta])[0] for respuesta in respuestas]\n"
   ]
  },
  {
   "cell_type": "code",
   "execution_count": null,
   "metadata": {
    "vscode": {
     "languageId": "plaintext"
    }
   },
   "outputs": [],
   "source": [
    "from sklearn.cluster import KMeans\n",
    "\n",
    "# Aplicar K-means clustering para encontrar 5 grupos\n",
    "kmeans = KMeans(n_clusters=5, random_state=42)\n",
    "clusters = kmeans.fit_predict(embeddings)\n",
    "\n",
    "# Añadir los resultados del clustering al DataFrame original\n",
    "df['cluster'] = clusters\n",
    "print(df.head())\n"
   ]
  }
 ],
 "metadata": {
  "language_info": {
   "name": "python"
  }
 },
 "nbformat": 4,
 "nbformat_minor": 2
}
