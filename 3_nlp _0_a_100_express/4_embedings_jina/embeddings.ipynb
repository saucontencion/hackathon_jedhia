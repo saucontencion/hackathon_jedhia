{
 "cells": [
  {
   "cell_type": "markdown",
   "metadata": {},
   "source": [
    "<a href=\"https://colab.research.google.com/drive/1qeJusScbkk_t-ewA0Oh1KTg1ZJ-xtlzZ?userstoinvite=prudant%40gmail.com&sharingaction=manageaccess&role=writer#scrollTo=6-cxBbcnThe6\" target=\"_parent\"><img src=\"https://colab.research.google.com/assets/colab-badge.svg\" alt=\"Open In Colab\"/></a>"
   ]
  },
  {
   "cell_type": "code",
   "execution_count": null,
   "metadata": {
    "id": "6-cxBbcnThe6"
   },
   "outputs": [],
   "source": [
    "import pandas as pd\n",
    "\n",
    "# Cargar el archivo Excel\n",
    "df = pd.read_excel('ruta/a/tu/archivo.xlsx')\n",
    "print(df.head())  # Ver las primeras filas para entender los datos\n"
   ]
  },
  {
   "cell_type": "code",
   "execution_count": null,
   "metadata": {
    "id": "AYh1kp3PTkXw"
   },
   "outputs": [],
   "source": [
    "comentarios = df['comentarios'].dropna()  # Eliminar valores NaN\n"
   ]
  },
  {
   "cell_type": "code",
   "execution_count": null,
   "metadata": {
    "id": "kyxLdvGzTwoD"
   },
   "outputs": [],
   "source": [
    "pip install jina-embeddings\n"
   ]
  },
  {
   "cell_type": "code",
   "execution_count": null,
   "metadata": {
    "id": "skiceyEYT0Bz"
   },
   "outputs": [],
   "source": [
    "from jina import Executor\n",
    "from jina_embeddings import JinaEmbeddings\n",
    "\n",
    "# Cargar el modelo\n",
    "embedder = JinaEmbeddings(model='jina-embeddings-v3')\n",
    "\n",
    "# Procesar las respuestas de la encuesta\n",
    "respuestas = [\"texto de respuesta 1\", \"texto de respuesta 2\", \"...\"]\n",
    "embeddings = [embedder.embed([respuesta])[0] for respuesta in respuestas]\n"
   ]
  },
  {
   "cell_type": "code",
   "execution_count": null,
   "metadata": {
    "id": "a1w73cCtT2Ju"
   },
   "outputs": [],
   "source": [
    "from sklearn.cluster import KMeans\n",
    "\n",
    "# Aplicar K-means clustering para encontrar 5 grupos\n",
    "kmeans = KMeans(n_clusters=5, random_state=42)\n",
    "clusters = kmeans.fit_predict(embeddings)\n",
    "\n",
    "# Añadir los resultados del clustering al DataFrame original\n",
    "df['cluster'] = clusters\n",
    "print(df.head())\n"
   ]
  }
 ],
 "metadata": {
  "colab": {
   "provenance": []
  },
  "kernelspec": {
   "display_name": "Python 3",
   "name": "python3"
  },
  "language_info": {
   "name": "python"
  }
 },
 "nbformat": 4,
 "nbformat_minor": 0
}
